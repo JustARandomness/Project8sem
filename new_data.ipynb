{
 "cells": [
  {
   "cell_type": "code",
   "execution_count": 81,
   "metadata": {},
   "outputs": [],
   "source": [
    "import numpy as np\n",
    "import pandas as pd\n",
    "import random\n",
    "import time\n",
    "import matplotlib.pyplot as plt\n",
    "from math import factorial\n",
    "\n",
    "random.seed(time.perf_counter())"
   ]
  },
  {
   "cell_type": "code",
   "execution_count": 82,
   "metadata": {},
   "outputs": [],
   "source": [
    "def generate_main_nodes(mu, sigma, num_points):\n",
    "    out_array = []\n",
    "    for i in range(num_points):\n",
    "        out_array.append(random.gauss(mu, sigma))\n",
    "    return np.array(out_array)\n",
    "\n",
    "def generate_outliers(main_data, num_outliers, max_diff, min_diff):\n",
    "    indices = [int(random.uniform(0, len(main_data) + i - 1)) for i in range(num_outliers)]\n",
    "    indices.sort()\n",
    "    indices = np.array(indices)\n",
    "\n",
    "    max_elem = np.max(main_data)\n",
    "    min_elem = np.min(main_data)\n",
    "    \n",
    "    outliers_final = []\n",
    "    for i in range(num_outliers):\n",
    "        outliers = []\n",
    "        for j in range(num_outliers - i):\n",
    "            outliers.append(random.uniform(min_diff, max_diff) + max_elem)\n",
    "        for j in range(i):\n",
    "            outliers.append(min_elem - random.uniform(min_diff, max_diff))\n",
    "        outliers_final.append(outliers)\n",
    "\n",
    "        outliers = []\n",
    "        for j in range(i):\n",
    "            outliers.append(random.uniform(min_diff, max_diff) + max_elem)\n",
    "        for j in range(num_outliers - i):\n",
    "            outliers.append(min_elem - random.uniform(min_diff, max_diff))\n",
    "        outliers_final.append(outliers)\n",
    "    outliers_final = np.array(outliers_final)\n",
    "    return indices, outliers_final\n",
    "\n",
    "def generate_data(total_points, num_outliers, mu, sigma, max_diff = 1, min_diff = 0):\n",
    "    main_data = generate_main_nodes(mu, sigma, total_points - num_outliers)\n",
    "    indices, outliers = generate_outliers(main_data, num_outliers, max_diff, min_diff)\n",
    "    return main_data, outliers, indices\n",
    "\n",
    "def get_data_with_outliers(main_data, outliers, indices):\n",
    "    result = []\n",
    "    for i in range(len(outliers)):\n",
    "        tmp_array = np.copy(main_data).tolist()\n",
    "        for j in range(len(indices)):\n",
    "            tmp_array.insert(indices[j] + 1, outliers[i][j])\n",
    "        result.append(tmp_array)\n",
    "    return np.array(result)"
   ]
  },
  {
   "cell_type": "code",
   "execution_count": 85,
   "metadata": {},
   "outputs": [
    {
     "data": {
      "image/png": "[encoded data removed]",
      "text/plain": [
       "<Figure size 640x480 with 1 Axes>"
      ]
     },
     "metadata": {},
     "output_type": "display_data"
    }
   ],
   "source": [
    "main_data, outliers, indices = generate_data(50, 5, 0, 0.3, 1, 0.5)\n",
    "data_with_outliers = get_data_with_outliers(main_data, outliers, indices)\n",
    "for i in range(len(data_with_outliers[4])):\n",
    "    if (np.isin(data_with_outliers[4][i], outliers)):\n",
    "        plt.plot(i, data_with_outliers[4][i], color='red', marker='x', linestyle='')\n",
    "    else:\n",
    "        plt.plot(i, data_with_outliers[4][i], color='blue', marker='x', linestyle='')"
   ]
  },
  {
   "cell_type": "code",
   "execution_count": null,
   "metadata": {},
   "outputs": [],
   "source": []
  }
 ],
 "metadata": {
  "kernelspec": {
   "display_name": "all_pkgs",
   "language": "python",
   "name": "python3"
  },
  "language_info": {
   "codemirror_mode": {
    "name": "ipython",
    "version": 3
   },
   "file_extension": ".py",
   "mimetype": "text/x-python",
   "name": "python",
   "nbconvert_exporter": "python",
   "pygments_lexer": "ipython3",
   "version": "3.12.3"
  }
 },
 "nbformat": 4,
 "nbformat_minor": 2
}
